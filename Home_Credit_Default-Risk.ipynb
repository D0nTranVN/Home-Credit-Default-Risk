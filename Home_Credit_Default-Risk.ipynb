{
 "cells": [
  {
   "cell_type": "markdown",
   "source": [
    "# **Import librabies**"
   ],
   "metadata": {
    "collapsed": false,
    "pycharm": {
     "name": "#%% md\n"
    }
   }
  },
  {
   "cell_type": "code",
   "execution_count": 1,
   "outputs": [],
   "source": [
    "import pandas as pd\n",
    "import numpy as np\n",
    "import matplotlib.pyplot as plt\n",
    "plt.style.use('default')\n",
    "import seaborn as  sns\n",
    "from sklearn.preprocessing import OneHotEncoder\n",
    "import warnings\n",
    "warnings.filterwarnings('ignore')"
   ],
   "metadata": {
    "collapsed": false,
    "pycharm": {
     "name": "#%%\n"
    }
   }
  },
  {
   "cell_type": "markdown",
   "source": [
    "# **Read data**"
   ],
   "metadata": {
    "collapsed": false,
    "pycharm": {
     "name": "#%% md\n"
    }
   }
  },
  {
   "cell_type": "code",
   "execution_count": null,
   "outputs": [],
   "source": [
    "application_train = pd.read_csv('application_train.csv')"
   ],
   "metadata": {
    "collapsed": false,
    "pycharm": {
     "name": "#%%\n"
    }
   }
  },
  {
   "cell_type": "code",
   "execution_count": null,
   "outputs": [],
   "source": [
    "train_df = application_train.copy()\n",
    "train_df.head()"
   ],
   "metadata": {
    "collapsed": false,
    "pycharm": {
     "name": "#%%\n"
    }
   }
  },
  {
   "cell_type": "markdown",
   "source": [
    "# **Cleaning data**"
   ],
   "metadata": {
    "collapsed": false,
    "pycharm": {
     "name": "#%% md\n"
    }
   }
  },
  {
   "cell_type": "code",
   "execution_count": null,
   "outputs": [],
   "source": [
    "train_df.duplicated(keep='first').values.any()"
   ],
   "metadata": {
    "collapsed": false,
    "pycharm": {
     "name": "#%%\n"
    }
   }
  },
  {
   "cell_type": "code",
   "execution_count": null,
   "outputs": [],
   "source": [
    "# Drop NA/ XNA/ Unknown\n",
    "train_df.drop(['SK_ID_CURR','ORGANIZATION_TYPE', 'OCCUPATION_TYPE', 'FONDKAPREMONT_MODE', 'WALLSMATERIAL_MODE', 'WEEKDAY_APPR_PROCESS_START'], axis=1, inplace=True)\n",
    "train_df.drop(train_df.loc[train_df['CODE_GENDER']== 'XNA'].index, inplace=True)\n",
    "train_df.drop(train_df.loc[train_df['NAME_FAMILY_STATUS']== 'Unknown'].index, inplace=True)\n",
    "train_df.drop(train_df.loc[train_df['DAYS_EMPLOYED']== 365243].index, inplace=True) # 365243 is NA values ( https://www.kaggle.com/competitions/home-credit-default-risk/discussion/57247)\n",
    "train_df.drop(train_df.loc[train_df['AMT_INCOME_TOTAL']== 117000000].index, inplace=True)\n",
    "train_df.update(train_df[['EXT_SOURCE_1','EXT_SOURCE_2','EXT_SOURCE_3']].fillna(0.5))"
   ],
   "metadata": {
    "collapsed": false,
    "pycharm": {
     "name": "#%%\n"
    }
   }
  },
  {
   "cell_type": "code",
   "execution_count": null,
   "outputs": [],
   "source": [
    "percent_missing = train_df.isnull().sum() * 100 / len(train_df)\n",
    "pct = percent_missing.tolist()\n",
    "\n",
    "train_df.drop([(train_df.columns.tolist()[col]) for col in range(len(pct)) if pct[col]>15], axis=1, inplace=True)\n",
    "train_df.dropna(how='any',axis=0,inplace=True)\n",
    "\n",
    "missing_value_df = pd.DataFrame({'column_name': train_df.columns,\n",
    "                                 'percent_missing': percent_missing})\n",
    "missing_value_df.sort_values('percent_missing', inplace=True)\n",
    "missing_value_df"
   ],
   "metadata": {
    "collapsed": false,
    "pycharm": {
     "name": "#%%\n"
    }
   }
  },
  {
   "cell_type": "markdown",
   "source": [
    "# **Encoding**"
   ],
   "metadata": {
    "collapsed": false,
    "pycharm": {
     "name": "#%% md\n"
    }
   }
  },
  {
   "cell_type": "code",
   "execution_count": null,
   "outputs": [],
   "source": [
    "def barplot_mean(x, y, df, hue=None, order=None, hue_order=None):\n",
    "    print(df.groupby(x)[y].mean())\n",
    "    uniqs = df[x].nunique()\n",
    "\n",
    "    if uniqs > 4:\n",
    "        plt.figure(figsize=(16,4))\n",
    "\n",
    "    sns.barplot(x=x, y=y, data=df, estimator=np.mean, hue=hue, order=order, hue_order=hue_order)\n",
    "    plt.show()"
   ],
   "metadata": {
    "collapsed": false,
    "pycharm": {
     "name": "#%%\n"
    }
   }
  },
  {
   "cell_type": "code",
   "execution_count": null,
   "outputs": [],
   "source": [
    "# NAME_TYPE_SUITE\n",
    "train_df.loc[train_df['NAME_TYPE_SUITE'] != 'Unaccompanied', 'NAME_TYPE_SUITE'] = 'Accompanied'\n",
    "#barplot_mean('NAME_TYPE_SUITE','TARGET', train_df)"
   ],
   "metadata": {
    "collapsed": false,
    "pycharm": {
     "name": "#%%\n"
    }
   }
  },
  {
   "cell_type": "code",
   "execution_count": null,
   "outputs": [],
   "source": [
    "# NAME_INCOME_TYPE\n",
    "train_df.loc[train_df['NAME_INCOME_TYPE'] != 'Working', 'NAME_INCOME_TYPE'] = 'NotWorking'\n",
    "#barplot_mean('NAME_INCOME_TYPE','TARGET', train_df)"
   ],
   "metadata": {
    "collapsed": false,
    "pycharm": {
     "name": "#%%\n"
    }
   }
  },
  {
   "cell_type": "code",
   "execution_count": null,
   "outputs": [],
   "source": [
    "# NAME_HOUSING_TYPE\n",
    "train_df.loc[train_df['NAME_HOUSING_TYPE'] != 'House / apartment', 'NAME_HOUSING_TYPE'] = 'Not Owner'\n",
    "#barplot_mean('NAME_HOUSING_TYPE','TARGET', train_df)"
   ],
   "metadata": {
    "collapsed": false,
    "pycharm": {
     "name": "#%%\n"
    }
   }
  },
  {
   "cell_type": "code",
   "execution_count": null,
   "outputs": [],
   "source": [
    "# NAME_FAMILY_STATUS\n",
    "train_df.loc[train_df['NAME_FAMILY_STATUS'] != 'Married', 'NAME_FAMILY_STATUS'] = 'Not Married'\n",
    "#barplot_mean('NAME_FAMILY_STATUS','TARGET', train_df)"
   ],
   "metadata": {
    "collapsed": false,
    "pycharm": {
     "name": "#%%\n"
    }
   }
  },
  {
   "cell_type": "code",
   "execution_count": null,
   "outputs": [],
   "source": [
    "# NAME_EDUCATION_TYPE\n",
    "train_df.loc[train_df['NAME_EDUCATION_TYPE'] != 'Lower secondary', 'NAME_EDUCATION_TYPE'] = 'From Secondary'\n",
    "#barplot_mean('NAME_EDUCATION_TYPE','TARGET', train_df)"
   ],
   "metadata": {
    "collapsed": false,
    "pycharm": {
     "name": "#%%\n"
    }
   }
  },
  {
   "cell_type": "code",
   "execution_count": null,
   "outputs": [],
   "source": [
    "# category --> onehot endcoding\n",
    "cat_cols_encoded = []\n",
    "cat_ft = train_df.dtypes[train_df.dtypes == 'object'].index\n",
    "for col in list(cat_ft):\n",
    "  cat_cols_encoded += [f\"{col}_{cat}\" for cat in list(train_df[col].unique()[1:])]"
   ],
   "metadata": {
    "collapsed": false,
    "pycharm": {
     "name": "#%%\n"
    }
   }
  },
  {
   "cell_type": "code",
   "execution_count": null,
   "outputs": [],
   "source": [
    "OHE = OneHotEncoder(sparse=False, handle_unknown='error',drop = 'first')\n",
    "encoded_cols = OHE.fit_transform(train_df[cat_ft])\n",
    "df_enc = pd.DataFrame(encoded_cols, columns=cat_cols_encoded)\n",
    "train_df.reset_index(drop=True,inplace= True)\n",
    "train_df_enc = train_df.join(df_enc)\n",
    "train_df_enc.drop(cat_ft, axis=1, inplace=True)"
   ],
   "metadata": {
    "collapsed": false,
    "pycharm": {
     "name": "#%%\n"
    }
   }
  },
  {
   "cell_type": "markdown",
   "source": [
    "# **Split train/test**"
   ],
   "metadata": {
    "collapsed": false,
    "pycharm": {
     "name": "#%% md\n"
    }
   }
  },
  {
   "cell_type": "code",
   "execution_count": null,
   "outputs": [],
   "source": [
    "# train test split\n",
    "X,y = train_df_enc.drop(columns=['TARGET']), train_df_enc['TARGET']\n",
    "from sklearn.model_selection import train_test_split\n",
    "X_train, X_test, y_train, y_test = train_test_split(X, y, test_size = 0.2, random_state=42)"
   ],
   "metadata": {
    "collapsed": false,
    "pycharm": {
     "name": "#%%\n"
    }
   }
  },
  {
   "cell_type": "markdown",
   "source": [
    "# **Scaling data**"
   ],
   "metadata": {
    "collapsed": false,
    "pycharm": {
     "name": "#%% md\n"
    }
   }
  },
  {
   "cell_type": "code",
   "execution_count": null,
   "outputs": [],
   "source": [
    "col_fts = [column for column in list(X_train.dtypes[X_train.dtypes == 'int64'].index | X_train.dtypes[X_train.dtypes == 'float64'].index) if len(X_train[column].unique()) > 2]"
   ],
   "metadata": {
    "collapsed": false,
    "pycharm": {
     "name": "#%%\n"
    }
   }
  },
  {
   "cell_type": "code",
   "execution_count": null,
   "outputs": [],
   "source": [
    "# coutinuos --> scaling\n",
    "from sklearn.preprocessing import MinMaxScaler\n",
    "scaler = MinMaxScaler()\n",
    "X_train[col_fts] = scaler.fit_transform(X_train[col_fts])\n",
    "X_test[col_fts] = scaler.fit_transform(X_test[col_fts])"
   ],
   "metadata": {
    "collapsed": false,
    "pycharm": {
     "name": "#%%\n"
    }
   }
  },
  {
   "cell_type": "markdown",
   "source": [
    "# **Handle imbalance data**"
   ],
   "metadata": {
    "collapsed": false,
    "pycharm": {
     "name": "#%% md\n"
    }
   }
  },
  {
   "cell_type": "code",
   "execution_count": null,
   "outputs": [],
   "source": [
    "# fix imbalance\n",
    "from imblearn.over_sampling import SMOTE\n",
    "from imblearn.under_sampling import NearMiss\n",
    "\n",
    "nm = NearMiss()\n",
    "sm = SMOTE(random_state=42)\n",
    "\n",
    "X_train_sm, y_train_sm = sm.fit_resample(X_train, y_train)\n",
    "X_train_nm, y_train_nm = nm.fit_resample(X_train, y_train)"
   ],
   "metadata": {
    "collapsed": false,
    "pycharm": {
     "name": "#%%\n"
    }
   }
  },
  {
   "cell_type": "markdown",
   "source": [
    "# **Building model and evaluating**"
   ],
   "metadata": {
    "collapsed": false,
    "pycharm": {
     "name": "#%% md\n"
    }
   }
  },
  {
   "cell_type": "code",
   "execution_count": null,
   "outputs": [],
   "source": [
    "from sklearn.metrics import classification_report, confusion_matrix, ConfusionMatrixDisplay\n",
    "from sklearn.linear_model import LogisticRegression\n",
    "from sklearn.ensemble import RandomForestClassifier\n",
    "from sklearn.neighbors import KNeighborsClassifier\n",
    "from xgboost import XGBClassifier\n",
    "from sklearn.svm import SVC"
   ],
   "metadata": {
    "collapsed": false,
    "pycharm": {
     "name": "#%%\n"
    }
   }
  },
  {
   "cell_type": "code",
   "execution_count": null,
   "outputs": [],
   "source": [
    "# KNN no Resample\n",
    "\n",
    "knn_clf = KNeighborsClassifier(n_neighbors = 21)\n",
    "knn_clf.fit(X_train, y_train)\n",
    "\n",
    "y_pred = knn_clf.predict(X_test)\n",
    "\n",
    "print(classification_report( y_test, y_pred))\n",
    "cm = confusion_matrix(y_test, y_pred)\n",
    "disp = ConfusionMatrixDisplay(confusion_matrix=cm)\n",
    "disp.plot()\n",
    "plt.show()\n",
    "plt.close()"
   ],
   "metadata": {
    "collapsed": false,
    "pycharm": {
     "name": "#%%\n"
    }
   }
  },
  {
   "cell_type": "code",
   "execution_count": null,
   "outputs": [],
   "source": [
    "# KNN with SMOTE\n",
    "\n",
    "knn_clf = KNeighborsClassifier(n_neighbors = 21)\n",
    "knn_clf.fit(X_train_sm, y_train_sm)\n",
    "\n",
    "y_pred_sm = knn_clf.predict(X_test)\n",
    "\n",
    "print(classification_report( y_test, y_pred_sm))\n",
    "cm = confusion_matrix(y_test, y_pred_sm)\n",
    "disp = ConfusionMatrixDisplay(confusion_matrix=cm)\n",
    "disp.plot()\n",
    "plt.show()\n",
    "plt.close()"
   ],
   "metadata": {
    "collapsed": false,
    "pycharm": {
     "name": "#%%\n"
    }
   }
  },
  {
   "cell_type": "code",
   "execution_count": null,
   "outputs": [],
   "source": [
    "# KNN with NearMiss\n",
    "knn_clf = KNeighborsClassifier(n_neighbors = 21)\n",
    "knn_clf.fit(X_train_nm, y_train_nm)\n",
    "\n",
    "y_pred_nm = knn_clf.predict(X_test)\n",
    "\n",
    "print(classification_report( y_test, y_pred_nm))\n",
    "cm = confusion_matrix(y_test, y_pred_nm)\n",
    "disp = ConfusionMatrixDisplay(confusion_matrix=cm)\n",
    "disp.plot()\n",
    "plt.show()\n",
    "plt.close()"
   ],
   "metadata": {
    "collapsed": false,
    "pycharm": {
     "name": "#%%\n"
    }
   }
  }
 ],
 "metadata": {
  "kernelspec": {
   "display_name": "Python 3",
   "language": "python",
   "name": "python3"
  },
  "language_info": {
   "codemirror_mode": {
    "name": "ipython",
    "version": 2
   },
   "file_extension": ".py",
   "mimetype": "text/x-python",
   "name": "python",
   "nbconvert_exporter": "python",
   "pygments_lexer": "ipython2",
   "version": "2.7.6"
  }
 },
 "nbformat": 4,
 "nbformat_minor": 0
}