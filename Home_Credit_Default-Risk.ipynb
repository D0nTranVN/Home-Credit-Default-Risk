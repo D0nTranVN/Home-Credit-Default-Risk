{
 "cells": [
  {
   "cell_type": "markdown",
   "source": [
    "# **Import librabies**"
   ],
   "metadata": {
    "collapsed": false,
    "pycharm": {
     "name": "#%% md\n"
    }
   }
  },
  {
   "cell_type": "code",
   "execution_count": 1,
   "outputs": [],
   "source": [
    "import pandas as pd\n",
    "import numpy as np\n",
    "import matplotlib.pyplot as plt\n",
    "plt.style.use('default')\n",
    "from sklearn.preprocessing import OneHotEncoder\n",
    "import warnings\n",
    "warnings.filterwarnings('ignore')"
   ],
   "metadata": {
    "collapsed": false,
    "pycharm": {
     "name": "#%%\n"
    }
   }
  },
  {
   "cell_type": "markdown",
   "source": [
    "# **Read data**"
   ],
   "metadata": {
    "collapsed": false,
    "pycharm": {
     "name": "#%% md\n"
    }
   }
  },
  {
   "cell_type": "code",
   "execution_count": 2,
   "outputs": [],
   "source": [
    "application_train = pd.read_csv('application_train.csv')"
   ],
   "metadata": {
    "collapsed": false,
    "pycharm": {
     "name": "#%%\n"
    }
   }
  },
  {
   "cell_type": "code",
   "execution_count": 3,
   "outputs": [
    {
     "data": {
      "text/plain": "   SK_ID_CURR  TARGET NAME_CONTRACT_TYPE CODE_GENDER FLAG_OWN_CAR  \\\n0      100002       1         Cash loans           M            N   \n1      100003       0         Cash loans           F            N   \n2      100004       0    Revolving loans           M            Y   \n3      100006       0         Cash loans           F            N   \n4      100007       0         Cash loans           M            N   \n\n  FLAG_OWN_REALTY  CNT_CHILDREN  AMT_INCOME_TOTAL  AMT_CREDIT  AMT_ANNUITY  \\\n0               Y             0          202500.0    406597.5      24700.5   \n1               N             0          270000.0   1293502.5      35698.5   \n2               Y             0           67500.0    135000.0       6750.0   \n3               Y             0          135000.0    312682.5      29686.5   \n4               Y             0          121500.0    513000.0      21865.5   \n\n   ...  FLAG_DOCUMENT_18 FLAG_DOCUMENT_19 FLAG_DOCUMENT_20 FLAG_DOCUMENT_21  \\\n0  ...                 0                0                0                0   \n1  ...                 0                0                0                0   \n2  ...                 0                0                0                0   \n3  ...                 0                0                0                0   \n4  ...                 0                0                0                0   \n\n  AMT_REQ_CREDIT_BUREAU_HOUR AMT_REQ_CREDIT_BUREAU_DAY  \\\n0                        0.0                       0.0   \n1                        0.0                       0.0   \n2                        0.0                       0.0   \n3                        NaN                       NaN   \n4                        0.0                       0.0   \n\n   AMT_REQ_CREDIT_BUREAU_WEEK  AMT_REQ_CREDIT_BUREAU_MON  \\\n0                         0.0                        0.0   \n1                         0.0                        0.0   \n2                         0.0                        0.0   \n3                         NaN                        NaN   \n4                         0.0                        0.0   \n\n   AMT_REQ_CREDIT_BUREAU_QRT  AMT_REQ_CREDIT_BUREAU_YEAR  \n0                        0.0                         1.0  \n1                        0.0                         0.0  \n2                        0.0                         0.0  \n3                        NaN                         NaN  \n4                        0.0                         0.0  \n\n[5 rows x 122 columns]",
      "text/html": "<div>\n<style scoped>\n    .dataframe tbody tr th:only-of-type {\n        vertical-align: middle;\n    }\n\n    .dataframe tbody tr th {\n        vertical-align: top;\n    }\n\n    .dataframe thead th {\n        text-align: right;\n    }\n</style>\n<table border=\"1\" class=\"dataframe\">\n  <thead>\n    <tr style=\"text-align: right;\">\n      <th></th>\n      <th>SK_ID_CURR</th>\n      <th>TARGET</th>\n      <th>NAME_CONTRACT_TYPE</th>\n      <th>CODE_GENDER</th>\n      <th>FLAG_OWN_CAR</th>\n      <th>FLAG_OWN_REALTY</th>\n      <th>CNT_CHILDREN</th>\n      <th>AMT_INCOME_TOTAL</th>\n      <th>AMT_CREDIT</th>\n      <th>AMT_ANNUITY</th>\n      <th>...</th>\n      <th>FLAG_DOCUMENT_18</th>\n      <th>FLAG_DOCUMENT_19</th>\n      <th>FLAG_DOCUMENT_20</th>\n      <th>FLAG_DOCUMENT_21</th>\n      <th>AMT_REQ_CREDIT_BUREAU_HOUR</th>\n      <th>AMT_REQ_CREDIT_BUREAU_DAY</th>\n      <th>AMT_REQ_CREDIT_BUREAU_WEEK</th>\n      <th>AMT_REQ_CREDIT_BUREAU_MON</th>\n      <th>AMT_REQ_CREDIT_BUREAU_QRT</th>\n      <th>AMT_REQ_CREDIT_BUREAU_YEAR</th>\n    </tr>\n  </thead>\n  <tbody>\n    <tr>\n      <th>0</th>\n      <td>100002</td>\n      <td>1</td>\n      <td>Cash loans</td>\n      <td>M</td>\n      <td>N</td>\n      <td>Y</td>\n      <td>0</td>\n      <td>202500.0</td>\n      <td>406597.5</td>\n      <td>24700.5</td>\n      <td>...</td>\n      <td>0</td>\n      <td>0</td>\n      <td>0</td>\n      <td>0</td>\n      <td>0.0</td>\n      <td>0.0</td>\n      <td>0.0</td>\n      <td>0.0</td>\n      <td>0.0</td>\n      <td>1.0</td>\n    </tr>\n    <tr>\n      <th>1</th>\n      <td>100003</td>\n      <td>0</td>\n      <td>Cash loans</td>\n      <td>F</td>\n      <td>N</td>\n      <td>N</td>\n      <td>0</td>\n      <td>270000.0</td>\n      <td>1293502.5</td>\n      <td>35698.5</td>\n      <td>...</td>\n      <td>0</td>\n      <td>0</td>\n      <td>0</td>\n      <td>0</td>\n      <td>0.0</td>\n      <td>0.0</td>\n      <td>0.0</td>\n      <td>0.0</td>\n      <td>0.0</td>\n      <td>0.0</td>\n    </tr>\n    <tr>\n      <th>2</th>\n      <td>100004</td>\n      <td>0</td>\n      <td>Revolving loans</td>\n      <td>M</td>\n      <td>Y</td>\n      <td>Y</td>\n      <td>0</td>\n      <td>67500.0</td>\n      <td>135000.0</td>\n      <td>6750.0</td>\n      <td>...</td>\n      <td>0</td>\n      <td>0</td>\n      <td>0</td>\n      <td>0</td>\n      <td>0.0</td>\n      <td>0.0</td>\n      <td>0.0</td>\n      <td>0.0</td>\n      <td>0.0</td>\n      <td>0.0</td>\n    </tr>\n    <tr>\n      <th>3</th>\n      <td>100006</td>\n      <td>0</td>\n      <td>Cash loans</td>\n      <td>F</td>\n      <td>N</td>\n      <td>Y</td>\n      <td>0</td>\n      <td>135000.0</td>\n      <td>312682.5</td>\n      <td>29686.5</td>\n      <td>...</td>\n      <td>0</td>\n      <td>0</td>\n      <td>0</td>\n      <td>0</td>\n      <td>NaN</td>\n      <td>NaN</td>\n      <td>NaN</td>\n      <td>NaN</td>\n      <td>NaN</td>\n      <td>NaN</td>\n    </tr>\n    <tr>\n      <th>4</th>\n      <td>100007</td>\n      <td>0</td>\n      <td>Cash loans</td>\n      <td>M</td>\n      <td>N</td>\n      <td>Y</td>\n      <td>0</td>\n      <td>121500.0</td>\n      <td>513000.0</td>\n      <td>21865.5</td>\n      <td>...</td>\n      <td>0</td>\n      <td>0</td>\n      <td>0</td>\n      <td>0</td>\n      <td>0.0</td>\n      <td>0.0</td>\n      <td>0.0</td>\n      <td>0.0</td>\n      <td>0.0</td>\n      <td>0.0</td>\n    </tr>\n  </tbody>\n</table>\n<p>5 rows × 122 columns</p>\n</div>"
     },
     "execution_count": 3,
     "metadata": {},
     "output_type": "execute_result"
    }
   ],
   "source": [
    "train_df = application_train.copy()\n",
    "train_df.head()"
   ],
   "metadata": {
    "collapsed": false,
    "pycharm": {
     "name": "#%%\n"
    }
   }
  },
  {
   "cell_type": "markdown",
   "source": [
    "# **EDA**"
   ],
   "metadata": {
    "collapsed": false,
    "pycharm": {
     "name": "#%% md\n"
    }
   }
  },
  {
   "cell_type": "code",
   "execution_count": 4,
   "outputs": [
    {
     "data": {
      "text/plain": "False"
     },
     "execution_count": 4,
     "metadata": {},
     "output_type": "execute_result"
    }
   ],
   "source": [
    "train_df.duplicated(keep='first').values.any()"
   ],
   "metadata": {
    "collapsed": false,
    "pycharm": {
     "name": "#%%\n"
    }
   }
  },
  {
   "cell_type": "code",
   "execution_count": 5,
   "outputs": [],
   "source": [
    "# Drop NA/ XNA/ Unknown\n",
    "train_df.drop(['SK_ID_CURR','ORGANIZATION_TYPE', 'OCCUPATION_TYPE', 'FONDKAPREMONT_MODE', 'WALLSMATERIAL_MODE', 'WEEKDAY_APPR_PROCESS_START'], axis=1, inplace=True)\n",
    "train_df.drop(train_df.loc[train_df['CODE_GENDER']== 'XNA'].index, inplace=True)\n",
    "train_df.drop(train_df.loc[train_df['NAME_FAMILY_STATUS']== 'Unknown'].index, inplace=True)\n",
    "train_df.drop(train_df.loc[train_df['DAYS_EMPLOYED']== 365243].index, inplace=True) # 365243 is NA values ( https://www.kaggle.com/competitions/home-credit-default-risk/discussion/57247)\n",
    "train_df.drop(train_df.loc[train_df['AMT_INCOME_TOTAL']== 117000000].index, inplace=True)\n",
    "train_df.update(train_df[['EXT_SOURCE_1','EXT_SOURCE_2','EXT_SOURCE_3']].fillna(0.5))"
   ],
   "metadata": {
    "collapsed": false,
    "pycharm": {
     "name": "#%%\n"
    }
   }
  },
  {
   "cell_type": "code",
   "execution_count": 6,
   "outputs": [
    {
     "data": {
      "text/plain": "                                           column_name  percent_missing\nTARGET                                          TARGET         0.000000\nREG_REGION_NOT_WORK_REGION  REG_REGION_NOT_WORK_REGION         0.000000\nREG_CITY_NOT_LIVE_CITY          REG_CITY_NOT_LIVE_CITY         0.000000\nREG_CITY_NOT_WORK_CITY          REG_CITY_NOT_WORK_CITY         0.000000\nLIVE_CITY_NOT_WORK_CITY        LIVE_CITY_NOT_WORK_CITY         0.000000\n...                                                ...              ...\nNONLIVINGAPARTMENTS_AVG        NONLIVINGAPARTMENTS_AVG        69.311863\nNONLIVINGAPARTMENTS_MEDI      NONLIVINGAPARTMENTS_MEDI        69.311863\nCOMMONAREA_MODE                        COMMONAREA_MODE        69.758458\nCOMMONAREA_AVG                          COMMONAREA_AVG        69.758458\nCOMMONAREA_MEDI                        COMMONAREA_MEDI        69.758458\n\n[116 rows x 2 columns]",
      "text/html": "<div>\n<style scoped>\n    .dataframe tbody tr th:only-of-type {\n        vertical-align: middle;\n    }\n\n    .dataframe tbody tr th {\n        vertical-align: top;\n    }\n\n    .dataframe thead th {\n        text-align: right;\n    }\n</style>\n<table border=\"1\" class=\"dataframe\">\n  <thead>\n    <tr style=\"text-align: right;\">\n      <th></th>\n      <th>column_name</th>\n      <th>percent_missing</th>\n    </tr>\n  </thead>\n  <tbody>\n    <tr>\n      <th>TARGET</th>\n      <td>TARGET</td>\n      <td>0.000000</td>\n    </tr>\n    <tr>\n      <th>REG_REGION_NOT_WORK_REGION</th>\n      <td>REG_REGION_NOT_WORK_REGION</td>\n      <td>0.000000</td>\n    </tr>\n    <tr>\n      <th>REG_CITY_NOT_LIVE_CITY</th>\n      <td>REG_CITY_NOT_LIVE_CITY</td>\n      <td>0.000000</td>\n    </tr>\n    <tr>\n      <th>REG_CITY_NOT_WORK_CITY</th>\n      <td>REG_CITY_NOT_WORK_CITY</td>\n      <td>0.000000</td>\n    </tr>\n    <tr>\n      <th>LIVE_CITY_NOT_WORK_CITY</th>\n      <td>LIVE_CITY_NOT_WORK_CITY</td>\n      <td>0.000000</td>\n    </tr>\n    <tr>\n      <th>...</th>\n      <td>...</td>\n      <td>...</td>\n    </tr>\n    <tr>\n      <th>NONLIVINGAPARTMENTS_AVG</th>\n      <td>NONLIVINGAPARTMENTS_AVG</td>\n      <td>69.311863</td>\n    </tr>\n    <tr>\n      <th>NONLIVINGAPARTMENTS_MEDI</th>\n      <td>NONLIVINGAPARTMENTS_MEDI</td>\n      <td>69.311863</td>\n    </tr>\n    <tr>\n      <th>COMMONAREA_MODE</th>\n      <td>COMMONAREA_MODE</td>\n      <td>69.758458</td>\n    </tr>\n    <tr>\n      <th>COMMONAREA_AVG</th>\n      <td>COMMONAREA_AVG</td>\n      <td>69.758458</td>\n    </tr>\n    <tr>\n      <th>COMMONAREA_MEDI</th>\n      <td>COMMONAREA_MEDI</td>\n      <td>69.758458</td>\n    </tr>\n  </tbody>\n</table>\n<p>116 rows × 2 columns</p>\n</div>"
     },
     "execution_count": 6,
     "metadata": {},
     "output_type": "execute_result"
    }
   ],
   "source": [
    "percent_missing = train_df.isnull().sum() * 100 / len(train_df)\n",
    "missing_value_df = pd.DataFrame({'column_name': train_df.columns,\n",
    "                                 'percent_missing': percent_missing})\n",
    "missing_value_df.sort_values('percent_missing', inplace=True)\n",
    "missing_value_df"
   ],
   "metadata": {
    "collapsed": false,
    "pycharm": {
     "name": "#%%\n"
    }
   }
  },
  {
   "cell_type": "code",
   "execution_count": 7,
   "outputs": [],
   "source": [
    "pct_over = []\n",
    "pct = percent_missing.tolist()\n",
    "for i in range(len(pct)):\n",
    "    if pct[i] > 15:\n",
    "        pct_over.append(train_df.columns.tolist()[i])\n",
    "\n",
    "train_df.drop(pct_over, axis=1, inplace=True)\n",
    "train_df.dropna(how='any',axis=0,inplace=True)"
   ],
   "metadata": {
    "collapsed": false,
    "pycharm": {
     "name": "#%%\n"
    }
   }
  },
  {
   "cell_type": "code",
   "execution_count": 8,
   "outputs": [],
   "source": [
    "import seaborn as  sns\n",
    "def barplot_mean(x, y, df, hue=None, order=None, hue_order=None):\n",
    "    print(df.groupby(x)[y].mean())\n",
    "    uniqs = df[x].nunique()\n",
    "\n",
    "    if uniqs > 4:\n",
    "        plt.figure(figsize=(16,4))\n",
    "\n",
    "    sns.barplot(x=x, y=y, data=df, estimator=np.mean, hue=hue, order=order, hue_order=hue_order)\n",
    "    plt.show()"
   ],
   "metadata": {
    "collapsed": false,
    "pycharm": {
     "name": "#%%\n"
    }
   }
  },
  {
   "cell_type": "code",
   "execution_count": 9,
   "outputs": [],
   "source": [
    "# NAME_TYPE_SUITE\n",
    "train_df.loc[train_df['NAME_TYPE_SUITE'] != 'Unaccompanied', 'NAME_TYPE_SUITE'] = 'Accompanied'\n",
    "#barplot_mean('NAME_TYPE_SUITE','TARGET', train_df)"
   ],
   "metadata": {
    "collapsed": false,
    "pycharm": {
     "name": "#%%\n"
    }
   }
  },
  {
   "cell_type": "code",
   "execution_count": 10,
   "outputs": [],
   "source": [
    "# NAME_INCOME_TYPE\n",
    "train_df.loc[train_df['NAME_INCOME_TYPE'] != 'Working', 'NAME_INCOME_TYPE'] = 'NotWorking'\n",
    "#barplot_mean('NAME_INCOME_TYPE','TARGET', train_df)"
   ],
   "metadata": {
    "collapsed": false,
    "pycharm": {
     "name": "#%%\n"
    }
   }
  },
  {
   "cell_type": "code",
   "execution_count": 11,
   "outputs": [],
   "source": [
    "# NAME_HOUSING_TYPE\n",
    "train_df.loc[train_df['NAME_HOUSING_TYPE'] != 'House / apartment', 'NAME_HOUSING_TYPE'] = 'Not Owner'\n",
    "#barplot_mean('NAME_HOUSING_TYPE','TARGET', train_df)"
   ],
   "metadata": {
    "collapsed": false,
    "pycharm": {
     "name": "#%%\n"
    }
   }
  },
  {
   "cell_type": "code",
   "execution_count": 12,
   "outputs": [],
   "source": [
    "# NAME_FAMILY_STATUS\n",
    "train_df.loc[train_df['NAME_FAMILY_STATUS'] != 'Married', 'NAME_FAMILY_STATUS'] = 'Not Married'\n",
    "#barplot_mean('NAME_FAMILY_STATUS','TARGET', train_df)"
   ],
   "metadata": {
    "collapsed": false,
    "pycharm": {
     "name": "#%%\n"
    }
   }
  },
  {
   "cell_type": "code",
   "execution_count": 13,
   "outputs": [],
   "source": [
    "# NAME_EDUCATION_TYPE\n",
    "train_df.loc[train_df['NAME_EDUCATION_TYPE'] != 'Lower secondary', 'NAME_EDUCATION_TYPE'] = 'From Secondary'\n",
    "#barplot_mean('NAME_EDUCATION_TYPE','TARGET', train_df)"
   ],
   "metadata": {
    "collapsed": false,
    "pycharm": {
     "name": "#%%\n"
    }
   }
  },
  {
   "cell_type": "code",
   "execution_count": 14,
   "outputs": [],
   "source": [
    "def cons_fts_vis(df,target):\n",
    "    num_ft = df.dtypes[df.dtypes == 'int64'].index | df.dtypes[df.dtypes == 'float64'].index\n",
    "    for column in list(num_ft):\n",
    "        if len(df[column].unique()) > 2:  # continuos fts\n",
    "            plt.figure(figsize=(16,4))\n",
    "            plt.subplot(1,3,1)\n",
    "            sns.distplot(df[column], hist = True, color = \"#07247D\", hist_kws = {'edgecolor':'black'})\n",
    "            plt.xlabel(column)\n",
    "            plt.ylabel('Density')\n",
    "            plt.title(f'{column}  Distribution')\n",
    "\n",
    "            plt.subplot(1,3,2)\n",
    "            sns.boxplot(x=target, y=column, data =df, showmeans=True )\n",
    "            plt.xlabel('Target')\n",
    "            plt.ylabel(column)\n",
    "            plt.title(f'{column}  Distribution')\n",
    "\n",
    "            plt.subplot(1,3,3)\n",
    "            counts, bins = np.histogram(df[column], bins=20, normed=True)\n",
    "            cdf = np.cumsum (counts)\n",
    "            plt.plot (bins[1:], cdf/cdf[-1])\n",
    "            plt.title(f'{column}  cdf')\n",
    "            plt.show()\n",
    "            print()"
   ],
   "metadata": {
    "collapsed": false,
    "pycharm": {
     "name": "#%%\n"
    }
   }
  },
  {
   "cell_type": "code",
   "execution_count": 15,
   "outputs": [],
   "source": [
    "# category --> onehot endcoding\n",
    "cat_cols_encoded = []\n",
    "cat_ft = train_df.dtypes[train_df.dtypes == 'object'].index\n",
    "for col in list(cat_ft):\n",
    "  cat_cols_encoded += [f\"{col}_{cat}\" for cat in list(train_df[col].unique()[1:])]"
   ],
   "metadata": {
    "collapsed": false,
    "pycharm": {
     "name": "#%%\n"
    }
   }
  },
  {
   "cell_type": "code",
   "execution_count": 16,
   "outputs": [],
   "source": [
    "OHE = OneHotEncoder(sparse=False, handle_unknown='error',drop = 'first')\n",
    "encoded_cols = OHE.fit_transform(train_df[cat_ft])\n",
    "\n",
    "df_enc = pd.DataFrame(encoded_cols, columns=cat_cols_encoded)\n",
    "train_df.reset_index(drop=True,inplace= True)\n",
    "train_df_enc = train_df.join(df_enc)\n",
    "train_df_enc.drop(cat_ft, axis=1, inplace=True)"
   ],
   "metadata": {
    "collapsed": false,
    "pycharm": {
     "name": "#%%\n"
    }
   }
  },
  {
   "cell_type": "code",
   "execution_count": 17,
   "outputs": [],
   "source": [
    "# train test split\n",
    "X,y = train_df_enc.drop(columns=['TARGET']), train_df_enc['TARGET']\n",
    "from sklearn.model_selection import train_test_split\n",
    "X_train, X_test, y_train, y_test = train_test_split(X, y, test_size = 0.2, random_state=42)"
   ],
   "metadata": {
    "collapsed": false,
    "pycharm": {
     "name": "#%%\n"
    }
   }
  },
  {
   "cell_type": "code",
   "execution_count": 18,
   "outputs": [],
   "source": [
    "col_fts = [column for column in list(X_train.dtypes[X_train.dtypes == 'int64'].index | X_train.dtypes[X_train.dtypes == 'float64'].index) if len(X_train[column].unique()) > 2]"
   ],
   "metadata": {
    "collapsed": false,
    "pycharm": {
     "name": "#%%\n"
    }
   }
  },
  {
   "cell_type": "markdown",
   "source": [
    "# **Scaling data**"
   ],
   "metadata": {
    "collapsed": false,
    "pycharm": {
     "name": "#%% md\n"
    }
   }
  },
  {
   "cell_type": "code",
   "execution_count": 19,
   "outputs": [],
   "source": [
    "# coutinuos --> scaling\n",
    "from sklearn.preprocessing import MinMaxScaler\n",
    "scaler = MinMaxScaler()\n",
    "X_train[col_fts] = scaler.fit_transform(X_train[col_fts])\n",
    "X_test[col_fts] = scaler.fit_transform(X_test[col_fts])"
   ],
   "metadata": {
    "collapsed": false,
    "pycharm": {
     "name": "#%%\n"
    }
   }
  },
  {
   "cell_type": "markdown",
   "source": [
    "# **Handle imbalance data**"
   ],
   "metadata": {
    "collapsed": false,
    "pycharm": {
     "name": "#%% md\n"
    }
   }
  },
  {
   "cell_type": "code",
   "execution_count": 20,
   "outputs": [],
   "source": [
    "# fix imbalance\n",
    "from imblearn.over_sampling import SMOTE\n",
    "from imblearn.under_sampling import NearMiss\n",
    "\n",
    "nm = NearMiss()\n",
    "sm = SMOTE(random_state=42)\n",
    "\n",
    "X_train_sm, y_train_sm = sm.fit_resample(X_train, y_train)\n",
    "X_train_nm, y_train_nm = nm.fit_resample(X_train, y_train)"
   ],
   "metadata": {
    "collapsed": false,
    "pycharm": {
     "name": "#%%\n"
    }
   }
  },
  {
   "cell_type": "markdown",
   "source": [
    "# **Building model and evaluating**"
   ],
   "metadata": {
    "collapsed": false,
    "pycharm": {
     "name": "#%% md\n"
    }
   }
  },
  {
   "cell_type": "code",
   "execution_count": 21,
   "outputs": [],
   "source": [
    "from sklearn.metrics import classification_report, confusion_matrix, ConfusionMatrixDisplay\n",
    "from sklearn.linear_model import LogisticRegression\n",
    "from sklearn.ensemble import RandomForestClassifier\n",
    "from sklearn.neighbors import KNeighborsClassifier\n",
    "from xgboost import XGBClassifier\n",
    "from sklearn.svm import SVC"
   ],
   "metadata": {
    "collapsed": false,
    "pycharm": {
     "name": "#%%\n"
    }
   }
  },
  {
   "cell_type": "code",
   "execution_count": 22,
   "outputs": [
    {
     "name": "stdout",
     "output_type": "stream",
     "text": [
      "              precision    recall  f1-score   support\n",
      "\n",
      "           0       0.92      1.00      0.96     39679\n",
      "           1       0.54      0.00      0.00      3630\n",
      "\n",
      "    accuracy                           0.92     43309\n",
      "   macro avg       0.73      0.50      0.48     43309\n",
      "weighted avg       0.88      0.92      0.88     43309\n",
      "\n"
     ]
    },
    {
     "data": {
      "text/plain": "<Figure size 432x288 with 2 Axes>",
      "image/png": "[encoded data removed]"
     },
     "metadata": {
      "needs_background": "light"
     },
     "output_type": "display_data"
    }
   ],
   "source": [
    "# KNN no Resample\n",
    "\n",
    "knn_clf = KNeighborsClassifier(n_neighbors = 21)\n",
    "knn_clf.fit(X_train, y_train)\n",
    "\n",
    "y_pred = knn_clf.predict(X_test)\n",
    "\n",
    "print(classification_report( y_test, y_pred))\n",
    "cm = confusion_matrix(y_test, y_pred)\n",
    "disp = ConfusionMatrixDisplay(confusion_matrix=cm)\n",
    "disp.plot()\n",
    "plt.show()\n",
    "plt.close()"
   ],
   "metadata": {
    "collapsed": false,
    "pycharm": {
     "name": "#%%\n"
    }
   }
  },
  {
   "cell_type": "code",
   "execution_count": 23,
   "outputs": [
    {
     "name": "stdout",
     "output_type": "stream",
     "text": [
      "              precision    recall  f1-score   support\n",
      "\n",
      "           0       0.94      0.55      0.70     39679\n",
      "           1       0.12      0.64      0.20      3630\n",
      "\n",
      "    accuracy                           0.56     43309\n",
      "   macro avg       0.53      0.60      0.45     43309\n",
      "weighted avg       0.87      0.56      0.65     43309\n",
      "\n"
     ]
    },
    {
     "data": {
      "text/plain": "<Figure size 432x288 with 2 Axes>",
      "image/png": "[encoded data removed]"
     },
     "metadata": {
      "needs_background": "light"
     },
     "output_type": "display_data"
    }
   ],
   "source": [
    "# KNN with SMOTE\n",
    "\n",
    "knn_clf = KNeighborsClassifier(n_neighbors = 21)\n",
    "knn_clf.fit(X_train_sm, y_train_sm)\n",
    "\n",
    "y_pred_sm = knn_clf.predict(X_test)\n",
    "\n",
    "print(classification_report( y_test, y_pred_sm))\n",
    "cm = confusion_matrix(y_test, y_pred_sm)\n",
    "disp = ConfusionMatrixDisplay(confusion_matrix=cm)\n",
    "disp.plot()\n",
    "plt.show()\n",
    "plt.close()"
   ],
   "metadata": {
    "collapsed": false,
    "pycharm": {
     "name": "#%%\n"
    }
   }
  },
  {
   "cell_type": "code",
   "execution_count": 24,
   "outputs": [
    {
     "name": "stdout",
     "output_type": "stream",
     "text": [
      "              precision    recall  f1-score   support\n",
      "\n",
      "           0       0.92      0.36      0.51     39679\n",
      "           1       0.09      0.67      0.16      3630\n",
      "\n",
      "    accuracy                           0.38     43309\n",
      "   macro avg       0.51      0.52      0.33     43309\n",
      "weighted avg       0.85      0.38      0.48     43309\n",
      "\n"
     ]
    },
    {
     "data": {
      "text/plain": "<Figure size 432x288 with 2 Axes>",
      "image/png": "[encoded data removed]"
     },
     "metadata": {
      "needs_background": "light"
     },
     "output_type": "display_data"
    }
   ],
   "source": [
    "# KNN with NearMiss\n",
    "knn_clf = KNeighborsClassifier(n_neighbors = 21)\n",
    "knn_clf.fit(X_train_nm, y_train_nm)\n",
    "\n",
    "y_pred_nm = knn_clf.predict(X_test)\n",
    "\n",
    "print(classification_report( y_test, y_pred_nm))\n",
    "cm = confusion_matrix(y_test, y_pred_nm)\n",
    "disp = ConfusionMatrixDisplay(confusion_matrix=cm)\n",
    "disp.plot()\n",
    "plt.show()\n",
    "plt.close()"
   ],
   "metadata": {
    "collapsed": false,
    "pycharm": {
     "name": "#%%\n"
    }
   }
  }
 ],
 "metadata": {
  "kernelspec": {
   "display_name": "Python 3",
   "language": "python",
   "name": "python3"
  },
  "language_info": {
   "codemirror_mode": {
    "name": "ipython",
    "version": 2
   },
   "file_extension": ".py",
   "mimetype": "text/x-python",
   "name": "python",
   "nbconvert_exporter": "python",
   "pygments_lexer": "ipython2",
   "version": "2.7.6"
  }
 },
 "nbformat": 4,
 "nbformat_minor": 0
}